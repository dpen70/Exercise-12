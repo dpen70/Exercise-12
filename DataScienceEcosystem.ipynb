{
 "cells": [
  {
   "cell_type": "markdown",
   "id": "756e8fbc-ab78-417c-b21d-b4918e0c2604",
   "metadata": {},
   "source": [
    "# Data Science Tools and Ecosystem"
   ]
  },
  {
   "cell_type": "markdown",
   "id": "2614194b-36be-4054-932b-b91a356d73fd",
   "metadata": {},
   "source": [
    "## In this notebook, Data Science Tools and Ecosystem are summarized."
   ]
  },
  {
   "cell_type": "markdown",
   "id": "2fcc60cb-a7e3-4a29-ac8d-05f85122bded",
   "metadata": {},
   "source": [
    "** Objectives: **"
   ]
  },
  {
   "cell_type": "markdown",
   "id": "9f2a98cb-df0b-49f0-9912-cd631472d217",
   "metadata": {},
   "source": [
    "- Python\n",
    "- Julia\n",
    "- R\n",
    "- Scala\n",
    "- Swift\n",
    "- SQL"
   ]
  },
  {
   "cell_type": "markdown",
   "id": "11e98f90-09e5-421b-817a-30c9f45a94b3",
   "metadata": {},
   "source": [
    "Some of the popular languages that Data Scientists use are:\n",
    "1. Python\n",
    "2. SQL\n",
    "3. Julia\n",
    "4. R\n",
    "5. Scala\n",
    "6. Swift"
   ]
  },
  {
   "cell_type": "markdown",
   "id": "42552b6e-2a68-492a-bba0-a1bfd257b159",
   "metadata": {},
   "source": [
    "Some of the commonly used libraries used by Data Scientists include:\n",
    "1. TensorFlow\n",
    "2. NumPy\n",
    "3. SciPy\n",
    "4. Pandas\n",
    "5. Matplotlib\n",
    "6. Keras\n",
    "7. SciKit-Learn\n",
    "8. PyTorch"
   ]
  },
  {
   "cell_type": "markdown",
   "id": "c2a2e7c5-07f3-4f45-88ea-c30d9108d809",
   "metadata": {},
   "source": [
    "| Data Science Tools |\n",
    "| __________________ |\n",
    "| Apache Hadoop |\n",
    "| Apache Spark |\n",
    "| Apache Flink |"
   ]
  },
  {
   "cell_type": "markdown",
   "id": "697b180d-401a-4250-b0e4-ff9e40ae9b5a",
   "metadata": {},
   "source": [
    "### Below are a few examples of evaluating arithmetic expressions in Python"
   ]
  },
  {
   "cell_type": "markdown",
   "id": "4edb7966-73dc-46e6-b76e-a5f8ebd2f199",
   "metadata": {},
   "source": [
    "This a simple arithmetic expression to multiply then add integers"
   ]
  },
  {
   "cell_type": "code",
   "execution_count": 3,
   "id": "f5be78b4-48b1-471e-8d82-006173b2636a",
   "metadata": {},
   "outputs": [
    {
     "data": {
      "text/plain": [
       "17"
      ]
     },
     "execution_count": 3,
     "metadata": {},
     "output_type": "execute_result"
    }
   ],
   "source": [
    "(3*4)+5"
   ]
  },
  {
   "cell_type": "markdown",
   "id": "d0ac207a-1d76-4ec8-8b2f-542b346f9b74",
   "metadata": {},
   "source": [
    "This will convert 200 minutes to hours by diving by 60"
   ]
  },
  {
   "cell_type": "code",
   "execution_count": 4,
   "id": "12f2e140-84ad-478c-a3e0-4677251bc1a4",
   "metadata": {},
   "outputs": [
    {
     "data": {
      "text/plain": [
       "3.3333333333333335"
      ]
     },
     "execution_count": 4,
     "metadata": {},
     "output_type": "execute_result"
    }
   ],
   "source": [
    "200/60"
   ]
  },
  {
   "cell_type": "markdown",
   "id": "fabd72f8-bec2-4e12-9bec-1d72f35173aa",
   "metadata": {},
   "source": [
    "## Author"
   ]
  },
  {
   "cell_type": "markdown",
   "id": "2d2b6aca-d1b7-45ba-948b-3604da580cc9",
   "metadata": {},
   "source": [
    "Yordanka Peneva"
   ]
  },
  {
   "cell_type": "code",
   "execution_count": null,
   "id": "daf18e72-1c9e-4f95-8e80-9b17991107e5",
   "metadata": {},
   "outputs": [],
   "source": []
  }
 ],
 "metadata": {
  "kernelspec": {
   "display_name": "Python 3 (ipykernel)",
   "language": "python",
   "name": "python3"
  },
  "language_info": {
   "codemirror_mode": {
    "name": "ipython",
    "version": 3
   },
   "file_extension": ".py",
   "mimetype": "text/x-python",
   "name": "python",
   "nbconvert_exporter": "python",
   "pygments_lexer": "ipython3",
   "version": "3.11.9"
  }
 },
 "nbformat": 4,
 "nbformat_minor": 5
}
